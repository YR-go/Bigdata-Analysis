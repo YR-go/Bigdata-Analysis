{
 "cells": [
  {
   "cell_type": "markdown",
   "metadata": {},
   "source": [
    "# Mean Normalization\n",
    "\n",
    "머신러닝 및 데이터 분석에서는 데이터 노멀라이징(정규화)을 합니다. \n",
    "정규화는 데이터의 범위를 0과 1로 변환하여 데이터 분포를 조정하는 방법입니다.\n",
    "예를 들어 여러개의 feature가 있는데 어떤거는 100 ~ 200사이의 값이고, 어떤거는 -10 ~ 10 사이의 값이고, 어떤거는 -100 ~ 300 사이의 값이라고 해보면, 이 값들을 분석하기 쉽지가 않습니다. 따라서 이런 불편을 줄이기 위해 범주를 일치시키는 작업을 normalization 이라 합니다. 보통은 0 ~ 1 사이의 값으로 범주를 일치시킵니다.\n",
    "\n"
   ]
  },
  {
   "cell_type": "code",
   "execution_count": null,
   "metadata": {},
   "outputs": [],
   "source": [
    "# feature scailling => standardization, normalization 대표방식\n",
    "# 각 col 마다 데이터 범위가 다를 때 클리닝 하고 스케일링 함\n",
    "# 각 col 마다 평균과 표준편차가 발생할 것(ex 나이, 연봉..)"
   ]
  },
  {
   "cell_type": "code",
   "execution_count": 1,
   "metadata": {},
   "outputs": [],
   "source": [
    "# import NumPy  \n",
    "import numpy as np"
   ]
  },
  {
   "cell_type": "code",
   "execution_count": null,
   "metadata": {},
   "outputs": [],
   "source": []
  },
  {
   "cell_type": "code",
   "execution_count": 2,
   "metadata": {},
   "outputs": [],
   "source": [
    "# 1000 x 20 ndarray 배열을, 0이상 5001미만(0 ~ 5000) 의 random integers 로 만드세요.\n",
    "\n",
    "X = np.random.randint(0, 5000+1, [1000,20]) #random은 그냥/ np.random은 +1"
   ]
  },
  {
   "cell_type": "code",
   "execution_count": null,
   "metadata": {},
   "outputs": [],
   "source": [
    "# print the shape of X\n"
   ]
  },
  {
   "cell_type": "code",
   "execution_count": 17,
   "metadata": {},
   "outputs": [
    {
     "data": {
      "text/plain": [
       "(1000, 20)"
      ]
     },
     "execution_count": 17,
     "metadata": {},
     "output_type": "execute_result"
    }
   ],
   "source": [
    "X.shape"
   ]
  },
  {
   "cell_type": "markdown",
   "metadata": {},
   "source": [
    "다음의 mean normalization 식을 이용해서 정규화 하세요.\n",
    "\n",
    "$\\mbox{Norm_Col}_i = \\frac{\\mbox{Col}_i - \\mu_i}{\\sigma_i}$\n",
    "\n",
    "평균과 표준편차를 이용하면, 위의 정규화 식을 사용할 수 있습니다.\n",
    "\n"
   ]
  },
  {
   "cell_type": "code",
   "execution_count": null,
   "metadata": {},
   "outputs": [],
   "source": [
    "# m 뮤는 평균 시그마는 표준편차"
   ]
  },
  {
   "cell_type": "code",
   "execution_count": null,
   "metadata": {},
   "outputs": [],
   "source": [
    "# 열을 고정하고 각 행에 대한 평균, 즉 모든 열별 평균값을 얻어온다.\n",
    " "
   ]
  },
  {
   "cell_type": "code",
   "execution_count": 7,
   "metadata": {},
   "outputs": [],
   "source": [
    "avg = np.mean(X, axis = 0)"
   ]
  },
  {
   "cell_type": "code",
   "execution_count": 8,
   "metadata": {},
   "outputs": [
    {
     "data": {
      "text/plain": [
       "array([2462.055, 2488.532, 2502.717, 2467.426, 2557.788, 2484.784,\n",
       "       2513.878, 2483.077, 2534.958, 2541.771, 2407.799, 2460.88 ,\n",
       "       2535.262, 2549.95 , 2557.282, 2541.933, 2413.314, 2534.3  ,\n",
       "       2520.54 , 2422.999])"
      ]
     },
     "execution_count": 8,
     "metadata": {},
     "output_type": "execute_result"
    }
   ],
   "source": [
    "avg"
   ]
  },
  {
   "cell_type": "code",
   "execution_count": null,
   "metadata": {},
   "outputs": [],
   "source": [
    "# 열을 고정하고 각 행에 대한 표준편차, 즉 모든 열별 표준편차값을 얻어온다.\n"
   ]
  },
  {
   "cell_type": "code",
   "execution_count": 9,
   "metadata": {},
   "outputs": [],
   "source": [
    "std_cols = np.std(X, axis = 0)"
   ]
  },
  {
   "cell_type": "code",
   "execution_count": null,
   "metadata": {},
   "outputs": [],
   "source": []
  },
  {
   "cell_type": "markdown",
   "metadata": {},
   "source": [
    "각 벡터의 shape 을 확인하세요."
   ]
  },
  {
   "cell_type": "code",
   "execution_count": null,
   "metadata": {},
   "outputs": [],
   "source": [
    "# Print the shape of ave_cols\n",
    "\n",
    "# Print the shape of std_cols\n"
   ]
  },
  {
   "cell_type": "code",
   "execution_count": 12,
   "metadata": {},
   "outputs": [
    {
     "name": "stdout",
     "output_type": "stream",
     "text": [
      "avg = (20,), std = (20,)\n"
     ]
    }
   ],
   "source": [
    "print('avg = {}, std = {}'.format(avg.shape, std_cols.shape))"
   ]
  },
  {
   "cell_type": "markdown",
   "metadata": {},
   "source": [
    "위 공식대로 노멀라이제이션 하세요."
   ]
  },
  {
   "cell_type": "code",
   "execution_count": 18,
   "metadata": {},
   "outputs": [],
   "source": [
    "# Mean normalize X\n",
    "\n",
    "Norm_col = (X - avg) / std_cols  # 배열과 백터 연산 자동으로 가능"
   ]
  },
  {
   "cell_type": "code",
   "execution_count": 19,
   "metadata": {},
   "outputs": [
    {
     "data": {
      "text/plain": [
       "(1000, 20)"
      ]
     },
     "execution_count": 19,
     "metadata": {},
     "output_type": "execute_result"
    }
   ],
   "source": [
    "Norm_col.shape"
   ]
  },
  {
   "cell_type": "markdown",
   "metadata": {},
   "source": [
    "제대로 수행했으면 아마 $X_{\\tiny{\\mbox{norm}}}$ 배열은 값들이 0 근처의 값들로 나올겁니다.아래를 통해 확인하세요."
   ]
  },
  {
   "cell_type": "code",
   "execution_count": 21,
   "metadata": {},
   "outputs": [
    {
     "name": "stdout",
     "output_type": "stream",
     "text": [
      "X_norm [[-1.60635321  1.22226634 -1.26398996 ...  1.2714305  -0.15174809\n",
      "  -0.87233066]\n",
      " [-0.12618891 -1.29598194  0.82382834 ... -1.50072713  1.07283346\n",
      "   0.69082207]\n",
      " [-0.1794524   0.03929176  1.27805879 ...  1.02754357 -0.77350031\n",
      "  -1.37283753]\n",
      " ...\n",
      " [-1.24892718  1.6260361  -1.12238499 ... -1.02654227 -0.97759724\n",
      "   1.14188781]\n",
      " [-1.25243135 -0.4622328   0.73968625 ... -0.6167264  -1.70274955\n",
      "   1.63494465]\n",
      " [ 0.99654935  1.27114373  0.55430002 ... -1.26184667 -0.02537019\n",
      "  -1.51574274]]\n"
     ]
    }
   ],
   "source": [
    "# X_norm 을 출력(프린트) 하세요.\n",
    "print( 'X_norm {}'.format(Norm_col))"
   ]
  },
  {
   "cell_type": "code",
   "execution_count": 23,
   "metadata": {},
   "outputs": [
    {
     "name": "stdout",
     "output_type": "stream",
     "text": [
      "[-1.72409356 -1.75712952 -1.70659102 -1.70293289 -1.76821036 -1.74600037\n",
      " -1.74093075 -1.73316775 -1.81140035 -1.76113523 -1.67101653 -1.68370479\n",
      " -1.7291304  -1.77371047 -1.73588096 -1.74020241 -1.63909418 -1.8125591\n",
      " -1.70342537 -1.63968423]\n"
     ]
    }
   ],
   "source": [
    "# 각 컬럼(열)별 minimum value 를 출력하세요.\n",
    "print('{}'.format(np.min(Norm_col,axis = 0)))"
   ]
  },
  {
   "cell_type": "code",
   "execution_count": 24,
   "metadata": {},
   "outputs": [
    {
     "name": "stdout",
     "output_type": "stream",
     "text": [
      "[1.77307494 1.77833522 1.7076623  1.75004268 1.68894148 1.76387805\n",
      " 1.71686125 1.75120805 1.75572405 1.71063411 1.80134447 1.7436369\n",
      " 1.67760027 1.70617573 1.65530529 1.68004951 1.75495284 1.76278042\n",
      " 1.67295951 1.73924514]\n"
     ]
    }
   ],
   "source": [
    "# 각 컬럼(열)별 maximum value 를 출력하세요.\n",
    "print('{}'.format(np.max(Norm_col,axis = 0)))"
   ]
  },
  {
   "cell_type": "code",
   "execution_count": null,
   "metadata": {},
   "outputs": [],
   "source": []
  },
  {
   "cell_type": "code",
   "execution_count": null,
   "metadata": {},
   "outputs": [],
   "source": []
  }
 ],
 "metadata": {
  "kernelspec": {
   "display_name": "Python 3",
   "language": "python",
   "name": "python3"
  },
  "language_info": {
   "codemirror_mode": {
    "name": "ipython",
    "version": 3
   },
   "file_extension": ".py",
   "mimetype": "text/x-python",
   "name": "python",
   "nbconvert_exporter": "python",
   "pygments_lexer": "ipython3",
   "version": "3.8.8"
  }
 },
 "nbformat": 4,
 "nbformat_minor": 2
}
